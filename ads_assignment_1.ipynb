{
  "nbformat": 4,
  "nbformat_minor": 0,
  "metadata": {
    "colab": {
      "provenance": [],
      "authorship_tag": "ABX9TyODKQbCcE2YInrRJgOUxc5r",
      "include_colab_link": true
    },
    "kernelspec": {
      "name": "python3",
      "display_name": "Python 3"
    },
    "language_info": {
      "name": "python"
    }
  },
  "cells": [
    {
      "cell_type": "markdown",
      "metadata": {
        "id": "view-in-github",
        "colab_type": "text"
      },
      "source": [
        "<a href=\"https://colab.research.google.com/github/deerson2/ClolabToGithub_demo/blob/main/ads_assignment_1.ipynb\" target=\"_parent\"><img src=\"https://colab.research.google.com/assets/colab-badge.svg\" alt=\"Open In Colab\"/></a>"
      ]
    },
    {
      "cell_type": "code",
      "execution_count": 1,
      "metadata": {
        "id": "2afN5y1xeEEX"
      },
      "outputs": [],
      "source": [
        "# I have read through the introduction about Tools, Grading and Setup\n",
        "read_introduction = True\n",
        "\n",
        "# I have a Google account and can access Google Colaboratory under my own \n",
        "# account\n",
        "access_colaboratory = True\n",
        "\n",
        "# I have a GitHub account\n",
        "github_account = True"
      ]
    }
  ]
}